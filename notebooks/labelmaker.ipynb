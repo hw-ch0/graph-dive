{
 "cells": [
  {
   "cell_type": "code",
   "execution_count": 1,
   "metadata": {
    "collapsed": true
   },
   "outputs": [],
   "source": [
    "import os\n",
    "import json\n",
    "import pandas as pd\n",
    "\n",
    "conference_name = ['CIKM', 'EMNLP', 'AAAI', 'ICML', 'NeurlPS', 'ICASSP', 'CVPR', 'ICDM']\n",
    "conference_id = ['1194094125', '1192655580', '1184914352', '1180662882',\n",
    "                 '1127325140', '1121227772', '1158167855', '1183478919']"
   ]
  },
  {
   "cell_type": "code",
   "execution_count": 2,
   "metadata": {},
   "outputs": [
    {
     "data": {
      "text/html": [
       "<div>\n",
       "<style scoped>\n",
       "    .dataframe tbody tr th:only-of-type {\n",
       "        vertical-align: middle;\n",
       "    }\n",
       "\n",
       "    .dataframe tbody tr th {\n",
       "        vertical-align: top;\n",
       "    }\n",
       "\n",
       "    .dataframe thead th {\n",
       "        text-align: right;\n",
       "    }\n",
       "</style>\n",
       "<table border=\"1\" class=\"dataframe\">\n",
       "  <thead>\n",
       "    <tr style=\"text-align: right;\">\n",
       "      <th></th>\n",
       "      <th>ConferenceSeriesId</th>\n",
       "      <th>NormalizedName</th>\n",
       "      <th>CitationCount</th>\n",
       "    </tr>\n",
       "  </thead>\n",
       "  <tbody>\n",
       "    <tr>\n",
       "      <th>0</th>\n",
       "      <td>1183478919</td>\n",
       "      <td>ICDM</td>\n",
       "      <td>134343</td>\n",
       "    </tr>\n",
       "    <tr>\n",
       "      <th>1</th>\n",
       "      <td>1184914352</td>\n",
       "      <td>AAAI</td>\n",
       "      <td>446128</td>\n",
       "    </tr>\n",
       "    <tr>\n",
       "      <th>2</th>\n",
       "      <td>2756032919</td>\n",
       "      <td>ICIP</td>\n",
       "      <td>621</td>\n",
       "    </tr>\n",
       "    <tr>\n",
       "      <th>3</th>\n",
       "      <td>1121227772</td>\n",
       "      <td>ICASSP</td>\n",
       "      <td>638525</td>\n",
       "    </tr>\n",
       "    <tr>\n",
       "      <th>4</th>\n",
       "      <td>1192655580</td>\n",
       "      <td>EMNLP</td>\n",
       "      <td>315511</td>\n",
       "    </tr>\n",
       "  </tbody>\n",
       "</table>\n",
       "</div>"
      ],
      "text/plain": [
       "   ConferenceSeriesId NormalizedName  CitationCount\n",
       "0          1183478919           ICDM         134343\n",
       "1          1184914352           AAAI         446128\n",
       "2          2756032919           ICIP            621\n",
       "3          1121227772         ICASSP         638525\n",
       "4          1192655580          EMNLP         315511"
      ]
     },
     "execution_count": 2,
     "metadata": {},
     "output_type": "execute_result"
    }
   ],
   "source": [
    "conf = pd.read_csv(\"F:\\data\\mag\\data\\preprocessed\\conference_ids.csv\")\n",
    "conf.head()"
   ]
  },
  {
   "cell_type": "code",
   "execution_count": 3,
   "metadata": {},
   "outputs": [],
   "source": [
    "conf['ConferenceSeriesId'] = conf['ConferenceSeriesId'].apply(lambda x: str(x))"
   ]
  },
  {
   "cell_type": "code",
   "execution_count": 4,
   "metadata": {},
   "outputs": [
    {
     "data": {
      "text/html": [
       "<div>\n",
       "<style scoped>\n",
       "    .dataframe tbody tr th:only-of-type {\n",
       "        vertical-align: middle;\n",
       "    }\n",
       "\n",
       "    .dataframe tbody tr th {\n",
       "        vertical-align: top;\n",
       "    }\n",
       "\n",
       "    .dataframe thead th {\n",
       "        text-align: right;\n",
       "    }\n",
       "</style>\n",
       "<table border=\"1\" class=\"dataframe\">\n",
       "  <thead>\n",
       "    <tr style=\"text-align: right;\">\n",
       "      <th></th>\n",
       "      <th>PaperId</th>\n",
       "      <th>PaperTitle</th>\n",
       "      <th>YEAR</th>\n",
       "      <th>Date</th>\n",
       "      <th>ConferenceSeriesId</th>\n",
       "      <th>PaperId.1</th>\n",
       "      <th>Urls</th>\n",
       "    </tr>\n",
       "  </thead>\n",
       "  <tbody>\n",
       "    <tr>\n",
       "      <th>0</th>\n",
       "      <td>104302408</td>\n",
       "      <td>maximum margin multiclass nearest neighbors</td>\n",
       "      <td>2014</td>\n",
       "      <td>2014-06-21</td>\n",
       "      <td>1180662882</td>\n",
       "      <td>104302408</td>\n",
       "      <td>https://dblp.uni-trier.de/db/conf/icml/icml201...</td>\n",
       "    </tr>\n",
       "    <tr>\n",
       "      <th>1</th>\n",
       "      <td>104302408</td>\n",
       "      <td>maximum margin multiclass nearest neighbors</td>\n",
       "      <td>2014</td>\n",
       "      <td>2014-06-21</td>\n",
       "      <td>1180662882</td>\n",
       "      <td>104302408</td>\n",
       "      <td>http://proceedings.mlr.press/v32/kontorovichb1...</td>\n",
       "    </tr>\n",
       "    <tr>\n",
       "      <th>2</th>\n",
       "      <td>104302408</td>\n",
       "      <td>maximum margin multiclass nearest neighbors</td>\n",
       "      <td>2014</td>\n",
       "      <td>2014-06-21</td>\n",
       "      <td>1180662882</td>\n",
       "      <td>104302408</td>\n",
       "      <td>http://proceedings.mlr.press/v32/kontorovichb1...</td>\n",
       "    </tr>\n",
       "    <tr>\n",
       "      <th>3</th>\n",
       "      <td>104302408</td>\n",
       "      <td>maximum margin multiclass nearest neighbors</td>\n",
       "      <td>2014</td>\n",
       "      <td>2014-06-21</td>\n",
       "      <td>1180662882</td>\n",
       "      <td>104302408</td>\n",
       "      <td>https://arxiv.org/abs/1401.7898</td>\n",
       "    </tr>\n",
       "    <tr>\n",
       "      <th>4</th>\n",
       "      <td>104302408</td>\n",
       "      <td>maximum margin multiclass nearest neighbors</td>\n",
       "      <td>2014</td>\n",
       "      <td>2014-06-21</td>\n",
       "      <td>1180662882</td>\n",
       "      <td>104302408</td>\n",
       "      <td>https://jmlr.org/proceedings/papers/v32/kontor...</td>\n",
       "    </tr>\n",
       "  </tbody>\n",
       "</table>\n",
       "</div>"
      ],
      "text/plain": [
       "     PaperId                                   PaperTitle  YEAR        Date  \\\n",
       "0  104302408  maximum margin multiclass nearest neighbors  2014  2014-06-21   \n",
       "1  104302408  maximum margin multiclass nearest neighbors  2014  2014-06-21   \n",
       "2  104302408  maximum margin multiclass nearest neighbors  2014  2014-06-21   \n",
       "3  104302408  maximum margin multiclass nearest neighbors  2014  2014-06-21   \n",
       "4  104302408  maximum margin multiclass nearest neighbors  2014  2014-06-21   \n",
       "\n",
       "   ConferenceSeriesId  PaperId.1  \\\n",
       "0          1180662882  104302408   \n",
       "1          1180662882  104302408   \n",
       "2          1180662882  104302408   \n",
       "3          1180662882  104302408   \n",
       "4          1180662882  104302408   \n",
       "\n",
       "                                                Urls  \n",
       "0  https://dblp.uni-trier.de/db/conf/icml/icml201...  \n",
       "1  http://proceedings.mlr.press/v32/kontorovichb1...  \n",
       "2  http://proceedings.mlr.press/v32/kontorovichb1...  \n",
       "3                    https://arxiv.org/abs/1401.7898  \n",
       "4  https://jmlr.org/proceedings/papers/v32/kontor...  "
      ]
     },
     "execution_count": 4,
     "metadata": {},
     "output_type": "execute_result"
    }
   ],
   "source": [
    "papers = pd.read_csv(\"F:\\data\\mag\\data\\preprocessed\\paperurls.csv\")\n",
    "papers.head()"
   ]
  },
  {
   "cell_type": "code",
   "execution_count": 5,
   "metadata": {},
   "outputs": [],
   "source": [
    "papers = papers[['PaperId','YEAR']].drop_duplicates()"
   ]
  },
  {
   "cell_type": "code",
   "execution_count": 6,
   "metadata": {},
   "outputs": [],
   "source": [
    "papers['PaperId'] = papers['PaperId'].apply(lambda x: str(x))"
   ]
  },
  {
   "cell_type": "code",
   "execution_count": 7,
   "metadata": {},
   "outputs": [
    {
     "data": {
      "text/plain": [
       "(75307, 2)"
      ]
     },
     "execution_count": 7,
     "metadata": {},
     "output_type": "execute_result"
    }
   ],
   "source": [
    "papers.shape"
   ]
  },
  {
   "cell_type": "code",
   "execution_count": 8,
   "metadata": {},
   "outputs": [
    {
     "data": {
      "text/plain": [
       "'104302408'"
      ]
     },
     "execution_count": 8,
     "metadata": {},
     "output_type": "execute_result"
    }
   ],
   "source": [
    "papers[papers['PaperId']=='104302408'].PaperId.item()"
   ]
  },
  {
   "cell_type": "code",
   "execution_count": 9,
   "metadata": {},
   "outputs": [],
   "source": [
    "#conferenceid, paperid, year, citecount"
   ]
  },
  {
   "cell_type": "code",
   "execution_count": 10,
   "metadata": {},
   "outputs": [
    {
     "data": {
      "text/plain": [
       "'127645672'"
      ]
     },
     "execution_count": 10,
     "metadata": {},
     "output_type": "execute_result"
    }
   ],
   "source": [
    "cid = '1194094125'\n",
    "cdir = 'F:\\data\\mag\\data\\openalex\\\\' + cid + '_paperID'\n",
    "file_list = os.listdir(cdir)\n",
    "file_list[0][:-5]"
   ]
  },
  {
   "cell_type": "code",
   "execution_count": 11,
   "metadata": {},
   "outputs": [],
   "source": [
    "for i in os.listdir('F:\\data\\mag\\data\\paperreferences'):\n",
    "  t = pd.read_csv(os.path.join('F:\\data\\mag\\data\\paperreferences\\\\', i))\n",
    "  y = list(t['PaperReferenceId'])\n",
    "  x = list(t['PaperId'])\n",
    "  tmp = set(x+y)"
   ]
  },
  {
   "cell_type": "code",
   "execution_count": 12,
   "metadata": {
    "collapsed": false,
    "pycharm": {
     "name": "#%%\n"
    }
   },
   "outputs": [
    {
     "name": "stdout",
     "output_type": "stream",
     "text": [
      "(2204, 4)\n",
      "CIKM  :  1964\n",
      "(15389, 4)\n",
      "EMNLP  :  4894\n",
      "(4023, 4)\n",
      "AAAI  :  3720\n",
      "(2937, 4)\n",
      "ICML  :  2121\n",
      "(4208, 4)\n",
      "NeurIPS  :  2947\n",
      "(16339, 4)\n",
      "ICASSP  :  9336\n",
      "(68474, 4)\n",
      "CVPR  :  9782\n",
      "(1089, 4)\n",
      "ICDM  :  1240\n"
     ]
    }
   ],
   "source": [
    "\n",
    "for cid in conference_id:\n",
    "    cdir = 'F:\\data\\mag\\data\\openalex\\\\' + cid + '_paperID'\n",
    "    file_list = os.listdir(cdir)\n",
    "    cids = []\n",
    "    pids = []\n",
    "    years = []\n",
    "    ccs = []\n",
    "    cnm = conf[conf['ConferenceSeriesId']==cid].NormalizedName.item()\n",
    "    tcsv = 'F:\\data\\mag\\data\\paperreferences\\\\{}_refs.csv'.format(cnm)\n",
    "    t = pd.read_csv(tcsv)\n",
    "    print(t.shape)\n",
    "    y = list(t['PaperReferenceId'])\n",
    "    x = list(t['PaperId'])\n",
    "    tmp = set(x+y)\n",
    "    for file in file_list:\n",
    "        f = open(os.path.join(cdir, file))\n",
    "        paperid = file[:-5]\n",
    "        if int(paperid) in tmp: \n",
    "            yy = papers[papers['PaperId']==paperid].YEAR.item()\n",
    "            try:\n",
    "                data = json.load(f)\n",
    "                cids.append(cid)\n",
    "                pids.append(paperid)\n",
    "                years.append(yy)\n",
    "                ccs.append(data['cited_by_count'])\n",
    "            except:\n",
    "                pass\n",
    "    tempdict = {'ConferenceId':cids,'PaperId':pids,'Year':years,'CitationCount':ccs}\n",
    "    tempdict = pd.DataFrame(tempdict)\n",
    "    print(cnm,\" : \", str(len(tempdict)))\n",
    "    csvnm = \"F:\\data\\mag\\data\\labels\\{}_labeltemp.csv\".format(cid)\n",
    "    tempdict.to_csv(csvnm, encoding='utf-8',index=False)"
   ]
  },
  {
   "cell_type": "code",
   "execution_count": 20,
   "metadata": {},
   "outputs": [
    {
     "data": {
      "text/html": [
       "<div>\n",
       "<style scoped>\n",
       "    .dataframe tbody tr th:only-of-type {\n",
       "        vertical-align: middle;\n",
       "    }\n",
       "\n",
       "    .dataframe tbody tr th {\n",
       "        vertical-align: top;\n",
       "    }\n",
       "\n",
       "    .dataframe thead th {\n",
       "        text-align: right;\n",
       "    }\n",
       "</style>\n",
       "<table border=\"1\" class=\"dataframe\">\n",
       "  <thead>\n",
       "    <tr style=\"text-align: right;\">\n",
       "      <th></th>\n",
       "      <th>ConferenceId</th>\n",
       "      <th>PaperId</th>\n",
       "      <th>Year</th>\n",
       "      <th>CitationCount</th>\n",
       "      <th>rownum</th>\n",
       "      <th>rowmax</th>\n",
       "      <th>label</th>\n",
       "    </tr>\n",
       "  </thead>\n",
       "  <tbody>\n",
       "    <tr>\n",
       "      <th>1410</th>\n",
       "      <td>1184914352</td>\n",
       "      <td>2406945108</td>\n",
       "      <td>2012</td>\n",
       "      <td>330</td>\n",
       "      <td>1.0</td>\n",
       "      <td>298.0</td>\n",
       "      <td>1</td>\n",
       "    </tr>\n",
       "    <tr>\n",
       "      <th>1425</th>\n",
       "      <td>1184914352</td>\n",
       "      <td>2408538552</td>\n",
       "      <td>2012</td>\n",
       "      <td>152</td>\n",
       "      <td>2.0</td>\n",
       "      <td>298.0</td>\n",
       "      <td>1</td>\n",
       "    </tr>\n",
       "    <tr>\n",
       "      <th>1311</th>\n",
       "      <td>1184914352</td>\n",
       "      <td>2398690976</td>\n",
       "      <td>2012</td>\n",
       "      <td>142</td>\n",
       "      <td>3.0</td>\n",
       "      <td>298.0</td>\n",
       "      <td>1</td>\n",
       "    </tr>\n",
       "    <tr>\n",
       "      <th>62</th>\n",
       "      <td>1184914352</td>\n",
       "      <td>141062567</td>\n",
       "      <td>2012</td>\n",
       "      <td>133</td>\n",
       "      <td>4.0</td>\n",
       "      <td>298.0</td>\n",
       "      <td>1</td>\n",
       "    </tr>\n",
       "    <tr>\n",
       "      <th>227</th>\n",
       "      <td>1184914352</td>\n",
       "      <td>168840469</td>\n",
       "      <td>2012</td>\n",
       "      <td>127</td>\n",
       "      <td>5.0</td>\n",
       "      <td>298.0</td>\n",
       "      <td>1</td>\n",
       "    </tr>\n",
       "    <tr>\n",
       "      <th>...</th>\n",
       "      <td>...</td>\n",
       "      <td>...</td>\n",
       "      <td>...</td>\n",
       "      <td>...</td>\n",
       "      <td>...</td>\n",
       "      <td>...</td>\n",
       "      <td>...</td>\n",
       "    </tr>\n",
       "    <tr>\n",
       "      <th>1114</th>\n",
       "      <td>1184914352</td>\n",
       "      <td>2287866374</td>\n",
       "      <td>2012</td>\n",
       "      <td>0</td>\n",
       "      <td>294.0</td>\n",
       "      <td>298.0</td>\n",
       "      <td>0</td>\n",
       "    </tr>\n",
       "    <tr>\n",
       "      <th>1115</th>\n",
       "      <td>1184914352</td>\n",
       "      <td>2287921404</td>\n",
       "      <td>2012</td>\n",
       "      <td>0</td>\n",
       "      <td>295.0</td>\n",
       "      <td>298.0</td>\n",
       "      <td>0</td>\n",
       "    </tr>\n",
       "    <tr>\n",
       "      <th>1148</th>\n",
       "      <td>1184914352</td>\n",
       "      <td>2293830845</td>\n",
       "      <td>2012</td>\n",
       "      <td>0</td>\n",
       "      <td>296.0</td>\n",
       "      <td>298.0</td>\n",
       "      <td>0</td>\n",
       "    </tr>\n",
       "    <tr>\n",
       "      <th>2074</th>\n",
       "      <td>1184914352</td>\n",
       "      <td>2614616909</td>\n",
       "      <td>2012</td>\n",
       "      <td>0</td>\n",
       "      <td>297.0</td>\n",
       "      <td>298.0</td>\n",
       "      <td>0</td>\n",
       "    </tr>\n",
       "    <tr>\n",
       "      <th>3557</th>\n",
       "      <td>1184914352</td>\n",
       "      <td>3545627</td>\n",
       "      <td>2012</td>\n",
       "      <td>0</td>\n",
       "      <td>298.0</td>\n",
       "      <td>298.0</td>\n",
       "      <td>0</td>\n",
       "    </tr>\n",
       "  </tbody>\n",
       "</table>\n",
       "<p>298 rows × 7 columns</p>\n",
       "</div>"
      ],
      "text/plain": [
       "      ConferenceId     PaperId  Year  CitationCount  rownum  rowmax  label\n",
       "1410    1184914352  2406945108  2012            330     1.0   298.0      1\n",
       "1425    1184914352  2408538552  2012            152     2.0   298.0      1\n",
       "1311    1184914352  2398690976  2012            142     3.0   298.0      1\n",
       "62      1184914352   141062567  2012            133     4.0   298.0      1\n",
       "227     1184914352   168840469  2012            127     5.0   298.0      1\n",
       "...            ...         ...   ...            ...     ...     ...    ...\n",
       "1114    1184914352  2287866374  2012              0   294.0   298.0      0\n",
       "1115    1184914352  2287921404  2012              0   295.0   298.0      0\n",
       "1148    1184914352  2293830845  2012              0   296.0   298.0      0\n",
       "2074    1184914352  2614616909  2012              0   297.0   298.0      0\n",
       "3557    1184914352     3545627  2012              0   298.0   298.0      0\n",
       "\n",
       "[298 rows x 7 columns]"
      ]
     },
     "execution_count": 20,
     "metadata": {},
     "output_type": "execute_result"
    }
   ],
   "source": [
    "df[df['Year']==2012].sort_values(by = 'rownum')"
   ]
  },
  {
   "cell_type": "code",
   "execution_count": 22,
   "metadata": {
    "collapsed": false,
    "pycharm": {
     "name": "#%%\n"
    }
   },
   "outputs": [],
   "source": [
    "for cid in conference_id :\n",
    "    csvnm = \"F:\\data\\mag\\data\\labels\\{}_labeltemp.csv\".format(cid)\n",
    "    df = pd.read_csv(csvnm)\n",
    "    df['rownum'] = df.groupby(['Year'])['CitationCount'].rank(method ='first', ascending = False)\n",
    "    temp  = df.groupby(['Year']).max()[['rownum']].reset_index()\n",
    "    temp.columns = ['Year','rowmax']\n",
    "    df = pd.merge(df, temp, how = 'left', on = 'Year')\n",
    "    df['label'] = df.apply(lambda x: 1 if x['rowmax']*0.1 >= x['rownum'] else 0, axis=1)\n",
    "    df = df[['PaperId','label']]\n",
    "    fincsvnm = \"F:\\data\\mag\\data\\labels\\{}_withlabel.csv\".format(cid)\n",
    "    df.to_csv(fincsvnm, encoding ='utf-8', index=False)"
   ]
  },
  {
   "cell_type": "code",
   "execution_count": null,
   "metadata": {},
   "outputs": [],
   "source": []
  },
  {
   "cell_type": "code",
   "execution_count": null,
   "metadata": {},
   "outputs": [],
   "source": []
  },
  {
   "cell_type": "code",
   "execution_count": null,
   "metadata": {},
   "outputs": [],
   "source": []
  },
  {
   "cell_type": "code",
   "execution_count": null,
   "metadata": {},
   "outputs": [],
   "source": []
  },
  {
   "cell_type": "code",
   "execution_count": null,
   "metadata": {},
   "outputs": [],
   "source": []
  }
 ],
 "metadata": {
  "kernelspec": {
   "display_name": "mag_01",
   "language": "python",
   "name": "mag"
  },
  "language_info": {
   "codemirror_mode": {
    "name": "ipython",
    "version": 3
   },
   "file_extension": ".py",
   "mimetype": "text/x-python",
   "name": "python",
   "nbconvert_exporter": "python",
   "pygments_lexer": "ipython3",
   "version": "3.8.13"
  },
  "vscode": {
   "interpreter": {
    "hash": "85435b51f86a7cebbdd6baea933c6b4903987f389d68c661b27454f05fcd8bcd"
   }
  }
 },
 "nbformat": 4,
 "nbformat_minor": 0
}
