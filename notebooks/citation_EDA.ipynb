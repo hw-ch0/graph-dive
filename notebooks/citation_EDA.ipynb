{
 "cells": [
  {
   "cell_type": "code",
   "execution_count": 53,
   "metadata": {
    "collapsed": true
   },
   "outputs": [],
   "source": [
    "import os\n",
    "import json\n",
    "import matplotlib.pyplot as plt\n",
    "\n",
    "conference_name = ['CIKM', 'EMNLP', 'AAAI', 'ICML', 'NeurlPS', 'ICASSP', 'CVPR', 'ICDM']\n",
    "conference_id = ['1194094125', '1192655580', '1184914352', '1180662882',\n",
    "                 '1127325140', '1121227772', '1158167855', '1183478919']"
   ]
  },
  {
   "cell_type": "code",
   "execution_count": 54,
   "outputs": [],
   "source": [
    "cite_dic = {}\n",
    "for cid in conference_id:\n",
    "    cdir = './paper_' + cid + '/' + cid + '_paperID'\n",
    "    file_list = os.listdir(cdir)\n",
    "    tmp = []\n",
    "    for file in file_list:\n",
    "        f = open(os.path.join(cdir, file))\n",
    "        try:\n",
    "            data = json.load(f)\n",
    "            tmp.append(data['cited_by_count'])\n",
    "        except:\n",
    "            pass\n",
    "    cite_dic[cid] = tmp"
   ],
   "metadata": {
    "collapsed": false,
    "pycharm": {
     "name": "#%%\n"
    }
   }
  },
  {
   "cell_type": "code",
   "execution_count": 55,
   "outputs": [
    {
     "data": {
      "text/plain": "<Figure size 432x288 with 1 Axes>",
      "image/png": "[encoded data removed]"
     },
     "metadata": {
      "needs_background": "light"
     },
     "output_type": "display_data"
    }
   ],
   "source": [
    "plt.title('10% citation count')\n",
    "label = cite_dic.keys()\n",
    "x = []\n",
    "y = []\n",
    "z = []\n",
    "for i in label:\n",
    "    x.append(sorted(cite_dic[i], reverse=True)[len(cite_dic[i]) // 10])\n",
    "    y.append(sorted(cite_dic[i], reverse=True)[len(cite_dic[i]) // 100])\n",
    "    z.append(max(cite_dic[i]))\n",
    "\n",
    "p1 = plt.bar(conference_name, z, bottom=y)\n",
    "p2 = plt.bar(conference_name, y, bottom=x)\n",
    "p3 = plt.bar(conference_name, x)\n",
    "plt.yscale('log', base=10)\n",
    "plt.legend(('1%', '10%', '90%'))\n",
    "plt.show()"
   ],
   "metadata": {
    "collapsed": false,
    "pycharm": {
     "name": "#%%\n"
    }
   }
  },
  {
   "cell_type": "code",
   "execution_count": null,
   "outputs": [],
   "source": [],
   "metadata": {
    "collapsed": false,
    "pycharm": {
     "name": "#%%\n"
    }
   }
  }
 ],
 "metadata": {
  "kernelspec": {
   "display_name": "Python 3",
   "language": "python",
   "name": "python3"
  },
  "language_info": {
   "codemirror_mode": {
    "name": "ipython",
    "version": 2
   },
   "file_extension": ".py",
   "mimetype": "text/x-python",
   "name": "python",
   "nbconvert_exporter": "python",
   "pygments_lexer": "ipython2",
   "version": "2.7.6"
  }
 },
 "nbformat": 4,
 "nbformat_minor": 0
}