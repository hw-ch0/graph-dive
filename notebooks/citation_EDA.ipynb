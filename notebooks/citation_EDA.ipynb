{
 "cells": [
  {
   "cell_type": "code",
   "execution_count": 43,
   "metadata": {
    "collapsed": true
   },
   "outputs": [],
   "source": [
    "import os\n",
    "import json\n",
    "from tqdm import tqdm\n",
    "import matplotlib.pyplot as plt\n",
    "\n",
    "conference_name = ['CIKM', 'EMNLP', 'AAAI', 'ICML', 'NeurlPS', 'ICASSP', 'CVPR', 'ICDM']\n",
    "conference_id = ['1194094125', '1192655580', '1184914352', '1180662882',\n",
    "                 '1127325140', '1121227772', '1158167855', '1183478919']"
   ]
  },
  {
   "cell_type": "code",
   "execution_count": 37,
   "outputs": [
    {
     "name": "stderr",
     "output_type": "stream",
     "text": [
      "100%|██████████| 4201/4201 [00:06<00:00, 674.05it/s]\n",
      "100%|██████████| 5667/5667 [00:08<00:00, 663.83it/s]\n",
      "100%|██████████| 13766/13766 [00:21<00:00, 651.32it/s]\n",
      "100%|██████████| 8653/8653 [00:16<00:00, 531.73it/s]\n",
      "100%|██████████| 8113/8113 [00:12<00:00, 645.89it/s]\n",
      "100%|██████████| 16997/16997 [00:23<00:00, 727.89it/s]\n",
      "100%|██████████| 13058/13058 [00:18<00:00, 710.26it/s]\n",
      "100%|██████████| 4169/4169 [00:06<00:00, 624.12it/s]\n"
     ]
    }
   ],
   "source": [
    "cite_dic = {}\n",
    "for cid in conference_id:\n",
    "    cdir = './paper_' + cid + '/' + cid + '_paperID'\n",
    "    file_list = os.listdir(cdir)\n",
    "    tmp = []\n",
    "    for file in tqdm(file_list):\n",
    "        f = open(os.path.join(cdir, file))\n",
    "        try:\n",
    "            data = json.load(f)\n",
    "            tmp.append(data['cited_by_count'])\n",
    "        except:\n",
    "            pass\n",
    "    cite_dic[cid] = tmp"
   ],
   "metadata": {
    "collapsed": false,
    "pycharm": {
     "name": "#%%\n"
    }
   }
  },
  {
   "cell_type": "code",
   "execution_count": 51,
   "outputs": [
    {
     "name": "stdout",
     "output_type": "stream",
     "text": [
      "1258\n",
      "35\n",
      "20363\n",
      "72\n",
      "2266\n",
      "29\n",
      "4103\n",
      "46\n",
      "18324\n",
      "73\n",
      "5256\n",
      "21\n",
      "82383\n",
      "183\n",
      "549\n",
      "24\n"
     ]
    }
   ],
   "source": [
    "for cid in cite_dic.keys():\n",
    "    print(max(cite_dic[cid]))\n",
    "    print(sorted(cite_dic[cid], reverse=True)[len(cite_dic[cid]) // 10])"
   ],
   "metadata": {
    "collapsed": false,
    "pycharm": {
     "name": "#%%\n"
    }
   }
  },
  {
   "cell_type": "code",
   "execution_count": 50,
   "outputs": [
    {
     "data": {
      "text/plain": "<Figure size 432x288 with 1 Axes>",
      "image/png": "[encoded data removed]"
     },
     "metadata": {
      "needs_background": "light"
     },
     "output_type": "display_data"
    }
   ],
   "source": [
    "plt.title('10% citation count')\n",
    "label = cite_dic.keys()\n",
    "x = []\n",
    "y = []\n",
    "for i in label:\n",
    "    x.append(sorted(cite_dic[i], reverse=True)[len(cite_dic[i]) // 10])\n",
    "    y.append(max(cite_dic[i]))\n",
    "p1 = plt.bar(conference_name, y, bottom=x)\n",
    "p2 = plt.bar(conference_name, x)\n",
    "plt.yscale('log', base=10)\n",
    "plt.legend(('10%', '90%'))\n",
    "plt.show()"
   ],
   "metadata": {
    "collapsed": false,
    "pycharm": {
     "name": "#%%\n"
    }
   }
  },
  {
   "cell_type": "code",
   "execution_count": null,
   "outputs": [],
   "source": [],
   "metadata": {
    "collapsed": false,
    "pycharm": {
     "name": "#%%\n"
    }
   }
  }
 ],
 "metadata": {
  "kernelspec": {
   "display_name": "Python 3",
   "language": "python",
   "name": "python3"
  },
  "language_info": {
   "codemirror_mode": {
    "name": "ipython",
    "version": 2
   },
   "file_extension": ".py",
   "mimetype": "text/x-python",
   "name": "python",
   "nbconvert_exporter": "python",
   "pygments_lexer": "ipython2",
   "version": "2.7.6"
  }
 },
 "nbformat": 4,
 "nbformat_minor": 0
}